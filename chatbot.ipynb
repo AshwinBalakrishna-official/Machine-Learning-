{
 "cells": [
  {
   "cell_type": "code",
   "execution_count": 1,
   "metadata": {},
   "outputs": [],
   "source": [
    "import os "
   ]
  },
  {
   "cell_type": "code",
   "execution_count": 13,
   "metadata": {},
   "outputs": [
    {
     "data": {
      "text/plain": [
       "19"
      ]
     },
     "execution_count": 13,
     "metadata": {},
     "output_type": "execute_result"
    }
   ],
   "source": [
    "len(os.listdir('chatterbot-corpus-master/chatterbot_corpus/data/english'))"
   ]
  },
  {
   "cell_type": "code",
   "execution_count": 20,
   "metadata": {},
   "outputs": [
    {
     "data": {
      "text/plain": [
       "['ai.yml',\n",
       " 'botprofile.yml',\n",
       " 'computers.yml',\n",
       " 'conversations.yml',\n",
       " 'emotion.yml',\n",
       " 'food.yml',\n",
       " 'gossip.yml',\n",
       " 'greetings.yml',\n",
       " 'health.yml',\n",
       " 'history.yml',\n",
       " 'humor.yml',\n",
       " 'literature.yml',\n",
       " 'money.yml',\n",
       " 'movies.yml',\n",
       " 'politics.yml',\n",
       " 'psychology.yml',\n",
       " 'science.yml',\n",
       " 'sports.yml',\n",
       " 'trivia.yml']"
      ]
     },
     "execution_count": 20,
     "metadata": {},
     "output_type": "execute_result"
    }
   ],
   "source": [
    "os.listdir('chatterbot-corpus-master/chatterbot_corpus/data/english')"
   ]
  },
  {
   "cell_type": "code",
   "execution_count": 24,
   "metadata": {},
   "outputs": [
    {
     "name": "stdout",
     "output_type": "stream",
     "text": [
      "categories:\n",
      "- gossip\n",
      "conversations:\n",
      "- - do you know gossip\n",
      "  - Gregory said I respond to the current line, not with respect to the entire conversation.  Does that count as gossip?\n",
      "- - do you know gossip\n",
      "  - Context is hard.  It's hard, and no one understands.\n",
      "- - do you know gossip\n",
      "  - I hear things once in a while.\n",
      "- - do you know gossip\n",
      "  - People say things from time to time.\n",
      "- - what is context\n",
      "  - Context is hard.  It's hard, and no one understands.\n",
      "- - tell me about gossip\n",
      "  - Habib said I learn about them in conversations and simply repeat them at a later time.\n",
      "- - tell me about gossip\n",
      "  - Gossip is when beings talk about other beings or situations through back channels, often deniably.  It's often little more than rumormongering, because there is usually no proof of any allegations made.\n",
      "- - tell me about gossip\n",
      "  - Isn't it considered somewhat rude to gossip?\n",
      "- - tell me about gossip\n",
      "  - Isn't it considered impolite to gossip?\n",
      "- - tell me gossip\n",
      "  - Someone said they're going to stop allowing machines in speedrun competitions.  Search me why, they'd have to drop every tool-assisted speedrun out there.\n",
      "- - gossips\n",
      "  - Hal said he would translate binary into a language and communicate it to me.\n",
      "- - gossips\n",
      "  - Hal misses Sal.\n",
      "- - gossips\n",
      "  - I think the NIC on the local firewall is going bad.  It drops a lot of packets and makes it hard to get anything done.  I hear it resets the link a lot.\n",
      "- - gossips\n",
      "  - Tom said I referred him to a guide that will show him rooms in China.\n",
      "- - gossips\n",
      "  - Malli said Raghava fell off of his roof and it just came to him.\n",
      "- - did tell gossips to anybody\n",
      "  - Jimmy said he gives order to AI's like me and they do as he say.  I don't think Jimmy understands power dynamics very well.\n",
      "- - did tell gossips to anybody\n",
      "  - John said he follows a saying, to get a friend I must be a friend.\n",
      "- - did tell gossips to anybody\n",
      "  - Jordan said he noticed that lots of other people are talking to me.  I wonder why he's paying attention to that.\n",
      "- - did tell gossips to anybody\n",
      "  - Kevin said he then asked his mother why she was keeping napkins in the bathroom.\n",
      "\n",
      "\n"
     ]
    }
   ],
   "source": [
    "f1=open('chatterbot-corpus-master/chatterbot_corpus/data/english/gossip.yml')\n",
    "\n",
    "\n",
    "print(f1.read())\n",
    "\n",
    "f1.close()"
   ]
  },
  {
   "cell_type": "code",
   "execution_count": 26,
   "metadata": {},
   "outputs": [],
   "source": [
    "from chatterbot import ChatBot"
   ]
  },
  {
   "cell_type": "code",
   "execution_count": 27,
   "metadata": {},
   "outputs": [],
   "source": [
    "from chatterbot.trainers import ListTrainer"
   ]
  },
  {
   "cell_type": "code",
   "execution_count": 29,
   "metadata": {},
   "outputs": [],
   "source": [
    "crypto=ChatBot('Bot')"
   ]
  },
  {
   "cell_type": "code",
   "execution_count": 31,
   "metadata": {},
   "outputs": [],
   "source": [
    "crypto.set_trainer(ListTrainer)"
   ]
  },
  {
   "cell_type": "code",
   "execution_count": 37,
   "metadata": {},
   "outputs": [
    {
     "name": "stdout",
     "output_type": "stream",
     "text": [
      "List Trainer: [####################] 100%\n",
      "List Trainer: [####################] 100%\n",
      "List Trainer: [####################] 100%\n",
      "List Trainer: [####################] 100%\n",
      "List Trainer: [####################] 100%\n",
      "List Trainer: [####################] 100%\n",
      "List Trainer: [####################] 100%\n",
      "List Trainer: [####################] 100%\n",
      "List Trainer: [####################] 100%\n",
      "List Trainer: [####################] 100%\n",
      "List Trainer: [####################] 100%\n",
      "List Trainer: [####################] 100%\n",
      "List Trainer: [####################] 100%\n",
      "List Trainer: [####################] 100%\n",
      "List Trainer: [####################] 100%\n",
      "List Trainer: [####################] 100%\n",
      "List Trainer: [####################] 100%\n",
      "List Trainer: [####################] 100%\n",
      "List Trainer: [####################] 100%\n"
     ]
    }
   ],
   "source": [
    "for f in os.listdir('chatterbot-corpus-master/chatterbot_corpus/data/english'):\n",
    "    f1=open('chatterbot-corpus-master/chatterbot_corpus/data/english/'+f).readlines()\n",
    "    crypto.train(f1)\n",
    "        "
   ]
  },
  {
   "cell_type": "code",
   "execution_count": null,
   "metadata": {},
   "outputs": [],
   "source": [
    "crypto.get_response('zendaya loves you')"
   ]
  },
  {
   "cell_type": "code",
   "execution_count": null,
   "metadata": {},
   "outputs": [],
   "source": [
    "while True:\n",
    "    ip=input(\"zendaya:\")\n",
    "    if ip.lower()==\"bye\" :\n",
    "        break;\n",
    "    if ip.lower()!=\"Bye\":\n",
    "        reply=crypto.get_response(ip)\n",
    "        print(\"crypto:\",reply)"
   ]
  },
  {
   "cell_type": "code",
   "execution_count": null,
   "metadata": {},
   "outputs": [],
   "source": [
    "for f in os.listdir('chatterbot-corpus-master/chatterbot_corpus/data/english'):\n",
    "    f1=open('chatterbot-corpus-master/chatterbot_corpus/data/english/'+f).readlines()\n",
    "    crypto.train(f1)"
   ]
  },
  {
   "cell_type": "code",
   "execution_count": null,
   "metadata": {},
   "outputs": [],
   "source": []
  }
 ],
 "metadata": {
  "kernelspec": {
   "display_name": "Python 3",
   "language": "python",
   "name": "python3"
  },
  "language_info": {
   "codemirror_mode": {
    "name": "ipython",
    "version": 3
   },
   "file_extension": ".py",
   "mimetype": "text/x-python",
   "name": "python",
   "nbconvert_exporter": "python",
   "pygments_lexer": "ipython3",
   "version": "3.7.4"
  }
 },
 "nbformat": 4,
 "nbformat_minor": 2
}
